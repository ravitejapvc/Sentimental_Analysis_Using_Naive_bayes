{
 "cells": [
  {
   "cell_type": "code",
   "execution_count": null,
   "metadata": {},
   "outputs": [],
   "source": [
    "\n",
    "import nltk\n",
    "from nltk import word_tokenize\n",
    "import pandas as pd\n",
    "import seaborn as sns\n",
    "data=pd.read_table('train.tsv')\n",
    "##creating words which have influence on sentiments\n",
    "words=set()\n",
    "emotionalwords=[\"RB\",\"RBR\",\"RBS\",\"VB\",\"VBD\",\"VBN\",\"VBP\",\"JJ\",\"JJR\",\"JJS\"]\n",
    "for i in data[\"Phrase\"][:300]:\n",
    "    jk=word_tokenize(i)\n",
    "    for k in nltk.pos_tag(jk):\n",
    "        if k[1] in emotionalwords:\n",
    "            words.add(k[0])\n",
    "        else:\n",
    "            pass\n",
    "words=list(words)\n",
    "            \n"
   ]
  },
  {
   "cell_type": "code",
   "execution_count": null,
   "metadata": {},
   "outputs": [],
   "source": [
    "#creating table of occurence of words in comments/Phrases and their sentiments\n",
    "listOfVals=[[] for h in range(len(words))]\n",
    "sentiments=[]\n",
    "for i  in range(len(data[\"Phrase\"][:100])):\n",
    "    \n",
    "    for g in range(len(words)):\n",
    "        if data[\"Sentiments\"][i]>2:\n",
    "            sentiments.append(1)\n",
    "        else :\n",
    "            sentiments.append(0)\n",
    "        \n",
    "        \n",
    "        if words[g] in data[\"Phrase\"][i]:\n",
    "            listOfVals[g].append(1)\n",
    "        else:\n",
    "            listOfVals[g].append(0)\n",
    "dataOfVals=pd.DataFrame(tuple(listOfVals),index=words).T\n",
    "sentiments"
   ]
  },
  {
   "cell_type": "code",
   "execution_count": 55,
   "metadata": {},
   "outputs": [
    {
     "name": "stdout",
     "output_type": "stream",
     "text": [
      "0\n",
      "0\n",
      "0\n",
      "0\n",
      "0\n",
      "0\n",
      "0\n",
      "0\n",
      "1\n",
      "0\n",
      "0\n",
      "0\n",
      "0\n",
      "0\n",
      "1\n",
      "0\n",
      "0\n",
      "1\n",
      "0\n",
      "0\n",
      "1\n",
      "1\n",
      "0\n",
      "0\n",
      "0\n",
      "0\n",
      "0\n",
      "0\n",
      "0\n",
      "0\n",
      "0\n",
      "0\n",
      "0\n",
      "0\n",
      "0\n",
      "0\n"
     ]
    }
   ],
   "source": [
    "## implementing naive bayes algorithms for predicting sentiments\n",
    "\n",
    "GPSPW=[]#given positive sentiment list of probabilty of words present\n",
    "GNSPW=[]#given Negative Sentiment list of probabilty of words present\n",
    "#Note that GNSNPW(given Negative Sentiment list of probabilty of words not present) is not needed and similarly GPSNPW\n",
    "total=len(sentiments)\n",
    "pos=sentiments.count(1)\n",
    "neg=sentiments.count(0)\n",
    "for i in words:\n",
    "    probofpos=0\n",
    "    probofneg=0\n",
    "    for j in len(dataOfVals[str(i)]):\n",
    "        if sentiments[j]==1:\n",
    "            if dataOfVals[str(i)][j]==0:\n",
    "                probofneg+=1\n",
    "            else:\n",
    "                probofpos+=1\n",
    "        \n",
    "            \n",
    "\n",
    "\n",
    "\n",
    "        \n",
    "\n",
    "\n",
    "\n"
   ]
  }
 ],
 "metadata": {
  "kernelspec": {
   "display_name": "Python 3",
   "language": "python",
   "name": "python3"
  },
  "language_info": {
   "codemirror_mode": {
    "name": "ipython",
    "version": 3
   },
   "file_extension": ".py",
   "mimetype": "text/x-python",
   "name": "python",
   "nbconvert_exporter": "python",
   "pygments_lexer": "ipython3",
   "version": "3.10.7"
  },
  "orig_nbformat": 4
 },
 "nbformat": 4,
 "nbformat_minor": 2
}
