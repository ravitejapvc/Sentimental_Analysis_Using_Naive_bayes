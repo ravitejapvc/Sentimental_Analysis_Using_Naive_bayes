{
 "cells": [
  {
   "cell_type": "code",
   "execution_count": 41,
   "metadata": {},
   "outputs": [],
   "source": [
    "\n",
    "import nltk\n",
    "from nltk import word_tokenize\n",
    "from nltk import WordNetLemmatizer\n",
    "import pandas as pd\n",
    "import seaborn as sns\n",
    "data=pd.read_table('train.tsv')\n",
    "##creating words which have influence on sentiments and lemmatizing them \n",
    "lemm=WordNetLemmatizer()\n",
    "words=set()\n",
    "emotionalwords=[\"RB\",\"RBR\",\"RBS\",\"VB\",\"VBD\",\"VBN\",\"VBP\",\"JJ\",\"JJR\",\"JJS\"]\n",
    "for i in data[\"Phrase\"][:10000]:\n",
    "    jk=word_tokenize(i)\n",
    "    for k in nltk.pos_tag(jk):\n",
    "        if k[1] in emotionalwords:\n",
    "            words.add(k[0])\n",
    "        else:\n",
    "            pass\n",
    "words=list(words)  \n"
   ]
  },
  {
   "cell_type": "code",
   "execution_count": 42,
   "metadata": {},
   "outputs": [
    {
     "data": {
      "text/plain": [
       "1093"
      ]
     },
     "execution_count": 42,
     "metadata": {},
     "output_type": "execute_result"
    }
   ],
   "source": [
    "#creating table of occurence of words in comments/Phrases and their sentiments\n",
    "listOfVals=[[] for h in range(len(words))]\n",
    "sentiments=[]\n",
    "for i  in range(len(data[\"Phrase\"][:3000])):\n",
    "    if data[\"Sentiments\"][i]>2:\n",
    "        sentiments.append(1)\n",
    "    else :\n",
    "        sentiments.append(0)\n",
    "    for g in range(len(words)):\n",
    "        if words[g] in data[\"Phrase\"][i]:\n",
    "            listOfVals[g].append(1)\n",
    "        else:\n",
    "            listOfVals[g].append(0)\n",
    "dataOfVals=pd.DataFrame(tuple(listOfVals),index=words).T\n",
    "len(words)"
   ]
  },
  {
   "cell_type": "code",
   "execution_count": 48,
   "metadata": {},
   "outputs": [],
   "source": [
    "## implementing naive bayes algorithms for predicting sentiments\n",
    "\n",
    "GPSPW=[]#given positive sentiment list of probabilty of words present\n",
    "GNSPW=[]#given Negative Sentiment list of probabilty of words present\n",
    "#Note that GNSNPW(given Negative Sentiment list of probabilty of words not present) is not needed and similarly GPSNPW\n",
    "total=len(sentiments)\n",
    "pos=sentiments.count(1)\n",
    "neg=sentiments.count(0)\n",
    "for i in words:\n",
    "    probofposP=0\n",
    "    probofnegP=0\n",
    "    for j in range(len(dataOfVals[str(i)])):\n",
    "        if sentiments[j]==1:\n",
    "            if dataOfVals[str(i)][j]==0:\n",
    "                pass\n",
    "            else:\n",
    "                probofposP+=1\n",
    "        else:\n",
    "            if dataOfVals[str(i)][j]==0:\n",
    "                pass\n",
    "            else:\n",
    "                probofnegP+=1\n",
    "    GPSPW.append(probofposP/pos)\n",
    "    GNSPW.append(probofnegP/neg)\n"
   ]
  },
  {
   "cell_type": "code",
   "execution_count": 51,
   "metadata": {},
   "outputs": [
    {
     "name": "stdout",
     "output_type": "stream",
     "text": [
      "pos:0.132986724304936,neg:0.867013275695064\n"
     ]
    }
   ],
   "source": [
    "example=\" \"\n",
    "examplewords=[]\n",
    "for i in words:\n",
    "    if i in example:\n",
    "        examplewords.append(1)\n",
    "    else:\n",
    "        examplewords.append(0)\n",
    "pbOfPos=pos/len(sentiments)\n",
    "pbOfNeg=neg/len(sentiments)\n",
    "for d in range(len(words)):\n",
    "    if examplewords[d]==1:\n",
    "        pbOfPos=pbOfPos*(GPSPW[d])\n",
    "        pbOfNeg=pbOfNeg*(GNSPW[d])\n",
    "    else:\n",
    "        pbOfPos=pbOfPos*(1-GPSPW[d])\n",
    "        pbOfNeg=pbOfNeg*(1-GNSPW[d])\n",
    "pbOfNeg,pbOfPos\n",
    "Negsent=pbOfNeg/(pbOfNeg+pbOfPos)\n",
    "Possent=pbOfPos/(pbOfNeg+pbOfPos)\n",
    "print(f\"pos:{Possent},neg:{Negsent}\")\n"
   ]
  }
 ],
 "metadata": {
  "kernelspec": {
   "display_name": "Python 3",
   "language": "python",
   "name": "python3"
  },
  "language_info": {
   "codemirror_mode": {
    "name": "ipython",
    "version": 3
   },
   "file_extension": ".py",
   "mimetype": "text/x-python",
   "name": "python",
   "nbconvert_exporter": "python",
   "pygments_lexer": "ipython3",
   "version": "3.10.7"
  },
  "orig_nbformat": 4
 },
 "nbformat": 4,
 "nbformat_minor": 2
}
